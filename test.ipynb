{
 "cells": [
  {
   "cell_type": "code",
   "execution_count": 1,
   "metadata": {},
   "outputs": [],
   "source": [
    "import numpy as np\n",
    "import matplotlib.pyplot as plt\n",
    "import pandas as pd\n",
    "from datetime import datetime\n"
   ]
  },
  {
   "cell_type": "code",
   "execution_count": 2,
   "metadata": {},
   "outputs": [],
   "source": [
    "def max_power(file_device):\n",
    "    \"in : path to csv file, string\"\n",
    "    \"out : 1 or 0 : boolean if device is used during the night or not\"\n",
    "    \"night : from 10pm to 6am\"\n",
    "    \n",
    "    df = pd.read_csv(file_device, parse_dates=['timestamp'])\n",
    "\n",
    "    mseries = df.resample('1t', on='timestamp').power.sum()\n",
    "    df  = pd.DataFrame({'timestamp': mseries.index, 'power': mseries.values})\n",
    "    \n",
    "    #df['time'] = df['timestamp'].dt.time\n",
    "\n",
    "    max_power = df['power'].max()\n",
    "\n",
    "    return max_power\n",
    "\n",
    "def use_time(file_device):\n",
    "    \"in : path to csv file, string\"\n",
    "    \"out : 1 or 0 : boolean if device is used during the night or not\"\n",
    "    \"night : from 10pm to 6am\"\n",
    "    \n",
    "    df = pd.read_csv(file_device, parse_dates=['timestamp'])\n",
    "\n",
    "    mseries = df.resample('1t', on='timestamp').power.sum()\n",
    "    df  = pd.DataFrame({'timestamp': mseries.index, 'power': mseries.values})\n",
    "    \n",
    "    df['time'] = df['timestamp'].dt.time\n",
    "\n",
    "    time_use=0\n",
    "    number_of_use=0\n",
    "    in_functionment=False\n",
    "\n",
    "    for i in df.index:\n",
    "        if df['power'][i]!=0: \n",
    "            time_use+=1\n",
    "        if not in_functionment and df['power'][i] >= 0:\n",
    "            in_functionment = True\n",
    "            number_of_use += 1\n",
    "        elif in_functionment and df['power'][i] <= 0:\n",
    "            in_functionment = False\n",
    "\n",
    "    use_time=time_use/number_of_use\n",
    "\n",
    "    return use_time\n",
    "\n",
    "def period_use(file_device):\n",
    "    \"in : path to csv file, string\"\n",
    "    \"out : 1 or 0 : boolean if device is used during the night or not\"\n",
    "    \"night : from 10pm to 6am\"\n",
    "    \n",
    "    df = pd.read_csv(file_device, parse_dates=['timestamp'])\n",
    "\n",
    "    mseries = df.resample('1t', on='timestamp').power.sum()\n",
    "    df  = pd.DataFrame({'timestamp': mseries.index, 'power': mseries.values})\n",
    "    \n",
    "    df['time'] = df['timestamp'].dt.time\n",
    "\n",
    "    use_morning=0\n",
    "    use_lunch=0\n",
    "    use_afternoon=0\n",
    "    use_evening=0\n",
    "    use_night=0\n",
    "    in_functionment=False\n",
    "\n",
    "\n",
    "    for i in df.index:\n",
    "        if not in_functionment and df['power'][i] >= 0:\n",
    "            in_functionment = True\n",
    "            if df['time'][i] < datetime.strptime('11:00:00', '%H:%M:%S').time():\n",
    "                use_morning+=1\n",
    "            elif df['time'][i] < datetime.strptime('14:00:00', '%H:%M:%S').time():\n",
    "                use_lunch+=1\n",
    "            elif df['time'][i] < datetime.strptime('18:30:00', '%H:%M:%S').time():\n",
    "                use_afternoon+=1\n",
    "            elif df['time'][i] < datetime.strptime('22:30:00', '%H:%M:%S').time():\n",
    "                use_evening+=1\n",
    "            else:\n",
    "                use_night=0\n",
    "        elif in_functionment and df['power'][i] <= 0:\n",
    "            in_functionment = False\n",
    "\n",
    "    if use_morning==max(use_morning,use_lunch,use_afternoon,use_evening,use_night):\n",
    "        return 'morning'\n",
    "    elif use_lunch==max(use_morning,use_lunch,use_afternoon,use_evening,use_night):\n",
    "        return 'lunch'\n",
    "    elif use_afternoon==max(use_morning,use_lunch,use_afternoon,use_evening,use_night):\n",
    "        return 'afternoon'\n",
    "    elif use_evening==max(use_morning,use_lunch,use_afternoon,use_evening,use_night):\n",
    "        return 'evening'\n",
    "    elif use_night==max(use_morning,use_lunch,use_afternoon,use_evening,use_night):\n",
    "        return 'night'"
   ]
  },
  {
   "cell_type": "code",
   "execution_count": 3,
   "metadata": {},
   "outputs": [
    {
     "name": "stdout",
     "output_type": "stream",
     "text": [
      "1.0\n",
      "0.2222222222222222\n",
      "evening\n"
     ]
    }
   ],
   "source": [
    "print(max_power(\"household_power_consumption/test.csv\"))\n",
    "print(use_time(\"household_power_consumption/test.csv\"))\n",
    "print(period_use(\"household_power_consumption/test.csv\"))\n",
    "\n"
   ]
  }
 ],
 "metadata": {
  "kernelspec": {
   "display_name": "base",
   "language": "python",
   "name": "python3"
  },
  "language_info": {
   "codemirror_mode": {
    "name": "ipython",
    "version": 3
   },
   "file_extension": ".py",
   "mimetype": "text/x-python",
   "name": "python",
   "nbconvert_exporter": "python",
   "pygments_lexer": "ipython3",
   "version": "2022.10.undefined"
  }
 },
 "nbformat": 4,
 "nbformat_minor": 2
}
