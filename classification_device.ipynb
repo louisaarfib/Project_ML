{
 "cells": [
  {
   "cell_type": "markdown",
   "metadata": {},
   "source": [
    "# What to classify ?\n",
    "\n",
    "Lecture 3 : we saw the KNN algorithm to classify samples into classes. \n",
    "\n",
    "In our dataset, several electronic devices consume power. Each device is part of a category of devices :\n",
    "-multimedia = [computer, 3D_printer, internet_router, laptop, phone_charger, printer, screen, tv, sound_system],  \n",
    "-kitchen = [boiler, coffee, freezer, fridge, micro_wave_oven],  \n",
    "-cooling = [air_conditioner, fan],  \n",
    "-other = [air_purifier, dehumidifier, radiator, solar_panel, vacuum].\n",
    "\n",
    "Each category might have similar features, which could permit us to classify an unknown device. For example, in the category \"washing\", we expect all devices to be consuming power mainly during off-peak time, about once a week.\n",
    "\n",
    "1- Pretreating our data (removing all \"other\" devices, making sure all devices have the same length of measurements, start at the same hour, maybe making sure they all start the same day of the week (to compute calculations depending on the we etc...))  \n",
    "2- Finding relevant components that could permit us to distinguish two classes and implement them : a function that creates an array with all the components\n",
    "Try to plot each component for each class to see if we can already see some differences between the classes, see if the components are relevant\n",
    "3- KNN on all the components (multiple dimensions KNN, more than  2 dim)\n",
    "For the KNN : plot the accuracy, the graphs for different values of neighbors (see Lecture 3)"
   ]
  },
  {
   "cell_type": "markdown",
   "metadata": {},
   "source": [
    "# 3- KNN and classification\n",
    "\n",
    "We now have the components that can distinguish two classes of devices. We perform the KNN algorithm to classify the devices."
   ]
  },
  {
   "cell_type": "code",
   "execution_count": null,
   "metadata": {},
   "outputs": [],
   "source": []
  }
 ],
 "metadata": {
  "kernelspec": {
   "display_name": "base",
   "language": "python",
   "name": "python3"
  },
  "language_info": {
   "name": "python",
   "version": "3.11.5"
  }
 },
 "nbformat": 4,
 "nbformat_minor": 2
}
