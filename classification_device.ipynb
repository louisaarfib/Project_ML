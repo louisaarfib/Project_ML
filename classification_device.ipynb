{
 "cells": [
  {
   "cell_type": "markdown",
   "metadata": {},
   "source": [
    "# What to classify ?\n",
    "\n",
    "Lecture 3 : we saw the KNN algorithm to classify samples into classes. \n",
    "\n",
    "In our dataset, several electronic devices consume power. Each device is part of a category of devices :\n",
    "-multimedia = [computer, 3D_printer, internet_router, laptop, phone_charger, printer, screen, tv, sound_system],  \n",
    "-kitchen = [boiler, coffee, freezer, fridge, micro_wave_oven],  \n",
    "-cooling = [air_conditioner, fan],  \n",
    "-other = [air_purifier, dehumidifier, radiator, solar_panel, vacuum].\n",
    "\n",
    "Each category might have similar features, which could permit us to classify an unknown device. For example, in the category \"washing\", we expect all devices to be consuming power mainly during off-peak time, about once a week.\n",
    "To identify the major component that will permit us to classify our devices we must use another algorithm : the PCA (Principal Component Analysis) will probably do the job.\n",
    "\n",
    "1- Pretreating our data (removing all \"other\" devices,...)  \n",
    "2- PCA on our data  \n",
    "3- KNN on PC1 vs PC2"
   ]
  }
 ],
 "metadata": {
  "kernelspec": {
   "display_name": "base",
   "language": "python",
   "name": "python3"
  },
  "language_info": {
   "name": "python",
   "version": "3.11.5"
  }
 },
 "nbformat": 4,
 "nbformat_minor": 2
}
